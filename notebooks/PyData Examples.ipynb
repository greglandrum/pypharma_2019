{
 "cells": [
  {
   "cell_type": "markdown",
   "metadata": {},
   "source": [
    "# Working with Dask and chemical data\n",
    "\n",
    "Some notes here:\n",
    "\n",
    "- the starting dataset here is the SDF from ChEMBL25: ~1.8million records, 555M compressed\n",
    "- calculations are done on a t3.xlarge AWS EC2 instance (4 vCPUs, 16GB of RAM, relatively cheap)"
   ]
  },
  {
   "cell_type": "code",
   "execution_count": 1,
   "metadata": {},
   "outputs": [
    {
     "name": "stderr",
     "output_type": "stream",
     "text": [
      "RDKit WARNING: [12:34:29] Enabling RDKit 2019.09.1 jupyter extensions\n"
     ]
    },
    {
     "name": "stdout",
     "output_type": "stream",
     "text": [
      "Populating the interactive namespace from numpy and matplotlib\n"
     ]
    }
   ],
   "source": [
    "from rdkit import Chem\n",
    "from rdkit.Chem import rdinchi\n",
    "from rdkit import RDLogger\n",
    "RDLogger.DisableLog('rdApp.warning')\n",
    "RDLogger.DisableLog('rdApp.info')\n",
    "import time\n",
    "import sys\n",
    "\n",
    "from rdkit.Chem import Draw\n",
    "from rdkit.Chem.Draw import IPythonConsole\n",
    "%pylab inline"
   ]
  },
  {
   "cell_type": "code",
   "execution_count": 2,
   "metadata": {},
   "outputs": [],
   "source": [
    "from IPython.display import SVG   \n",
    "def show_molblock(molb):\n",
    "    m1 = Chem.MolFromMolBlock(molb,sanitize=False)\n",
    "    m1.UpdatePropertyCache(False)\n",
    "    Chem.FastFindRings(m1)\n",
    "    wedge_based_on_mol_props(m1)\n",
    "    d2d = Draw.MolDraw2DSVG(300,350)\n",
    "    d2d.DrawMolecule(m1)\n",
    "    d2d.FinishDrawing()\n",
    "    return SVG(d2d.GetDrawingText())"
   ]
  },
  {
   "cell_type": "code",
   "execution_count": 38,
   "metadata": {},
   "outputs": [],
   "source": [
    "import dask\n",
    "import dask.bag as db\n",
    "import gzip\n",
    "\n",
    "@dask.delayed\n",
    "def records_from_sdf(fname):\n",
    "    with gzip.open(fname,'rt') as inf:\n",
    "        return [x+'$$$$\\n' for x in inf.read().split('$$$$\\n')]\n",
    "def mol_from_record(blk,**kwargs):\n",
    "    r = Chem.MolFromMolBlock(blk,**kwargs)\n",
    "    return r"
   ]
  },
  {
   "cell_type": "code",
   "execution_count": 29,
   "metadata": {},
   "outputs": [],
   "source": [
    "import dask.distributed\n",
    "client = dask.distributed.Client()"
   ]
  },
  {
   "cell_type": "markdown",
   "metadata": {},
   "source": [
    "# Create a bag from a collection of separate files"
   ]
  },
  {
   "cell_type": "code",
   "execution_count": 39,
   "metadata": {},
   "outputs": [
    {
     "name": "stdout",
     "output_type": "stream",
     "text": [
      " 97.70\n"
     ]
    }
   ],
   "source": [
    "import glob\n",
    "# Create the readers:\n",
    "fns = sorted(glob.glob('../chembl_25.block*.sdf.gz'))\n",
    "dfs2 = [records_from_sdf(x) for x in fns]\n",
    "\n",
    "# now the dask bag that will actually do the work:\n",
    "b2 = db.from_delayed(dfs2)\n",
    "\n",
    "# construct molecules:\n",
    "mols2 = b2.map(lambda x:mol_from_record(x,sanitize=False,removeHs=False))\n",
    "\n",
    "# and now compose a couple of queries and count the results.\n",
    "# Note that no actual computation is done until the .compute() method is called\n",
    "q = Chem.MolFromSmarts('C(F)(F)F')\n",
    "t1=time.time();mols2.filter(lambda x: x is not None).filter(lambda x,q=q: x.HasSubstructMatch(q)).count().compute();t2=time.time()\n",
    "print(f\"{t2-t1 : .2f}\")"
   ]
  },
  {
   "cell_type": "markdown",
   "metadata": {},
   "source": [
    "# Generate a bunch of properties and write to avro"
   ]
  },
  {
   "cell_type": "code",
   "execution_count": 26,
   "metadata": {
    "scrolled": true
   },
   "outputs": [
    {
     "data": {
      "text/plain": [
       "['/data/ChEMBL/notebooks/chembl25_output.00.avro',\n",
       " '/data/ChEMBL/notebooks/chembl25_output.01.avro',\n",
       " '/data/ChEMBL/notebooks/chembl25_output.02.avro',\n",
       " '/data/ChEMBL/notebooks/chembl25_output.03.avro',\n",
       " '/data/ChEMBL/notebooks/chembl25_output.04.avro',\n",
       " '/data/ChEMBL/notebooks/chembl25_output.05.avro',\n",
       " '/data/ChEMBL/notebooks/chembl25_output.06.avro',\n",
       " '/data/ChEMBL/notebooks/chembl25_output.07.avro',\n",
       " '/data/ChEMBL/notebooks/chembl25_output.08.avro',\n",
       " '/data/ChEMBL/notebooks/chembl25_output.09.avro',\n",
       " '/data/ChEMBL/notebooks/chembl25_output.10.avro',\n",
       " '/data/ChEMBL/notebooks/chembl25_output.11.avro',\n",
       " '/data/ChEMBL/notebooks/chembl25_output.12.avro',\n",
       " '/data/ChEMBL/notebooks/chembl25_output.13.avro',\n",
       " '/data/ChEMBL/notebooks/chembl25_output.14.avro',\n",
       " '/data/ChEMBL/notebooks/chembl25_output.15.avro',\n",
       " '/data/ChEMBL/notebooks/chembl25_output.16.avro',\n",
       " '/data/ChEMBL/notebooks/chembl25_output.17.avro',\n",
       " '/data/ChEMBL/notebooks/chembl25_output.18.avro',\n",
       " '/data/ChEMBL/notebooks/chembl25_output.19.avro',\n",
       " '/data/ChEMBL/notebooks/chembl25_output.20.avro',\n",
       " '/data/ChEMBL/notebooks/chembl25_output.21.avro',\n",
       " '/data/ChEMBL/notebooks/chembl25_output.22.avro',\n",
       " '/data/ChEMBL/notebooks/chembl25_output.23.avro',\n",
       " '/data/ChEMBL/notebooks/chembl25_output.24.avro',\n",
       " '/data/ChEMBL/notebooks/chembl25_output.25.avro',\n",
       " '/data/ChEMBL/notebooks/chembl25_output.26.avro',\n",
       " '/data/ChEMBL/notebooks/chembl25_output.27.avro',\n",
       " '/data/ChEMBL/notebooks/chembl25_output.28.avro',\n",
       " '/data/ChEMBL/notebooks/chembl25_output.29.avro',\n",
       " '/data/ChEMBL/notebooks/chembl25_output.30.avro',\n",
       " '/data/ChEMBL/notebooks/chembl25_output.31.avro']"
      ]
     },
     "execution_count": 26,
     "metadata": {},
     "output_type": "execute_result"
    }
   ],
   "source": [
    "from rdkit.Chem import rdMolDescriptors\n",
    "from rdkit.Chem import Descriptors\n",
    "import glob\n",
    "\n",
    "# construct the bag the same way we did before\n",
    "fns = sorted(glob.glob('../chembl_25.block*.sdf.gz'))\n",
    "dfs2 = [records_from_sdf(x) for x in fns]\n",
    "b2 = db.from_delayed(dfs2)\n",
    "mols2 = b2.map(mol_from_record)\n",
    "\n",
    "# this time we're replacing the records with dicts that include the molecules\n",
    "# and ChEMBL IDs:\n",
    "tmols = b2.map(lambda x,y:{'sdf':x,\n",
    "                           'chembl_id':x.split('\\n')[0],\n",
    "                           'mol':y},mols2).filter(lambda x:x['mol'] is not None)\n",
    "\n",
    "# add a bunch of molecular properties:\n",
    "def get_mol_res(row):\n",
    "    ''' calculate a bunch of molecular properties '''\n",
    "    m = row['mol']\n",
    "    return {\n",
    "        'canonical_smiles':Chem.MolToSmiles(m),\n",
    "        'inchi':Chem.MolToInchi(m),\n",
    "        'num_atoms':m.GetNumAtoms(),\n",
    "        'num_heavy_atoms':m.GetNumHeavyAtoms(),\n",
    "        'num_rotatable_bonds':rdMolDescriptors.CalcNumRotatableBonds(m),\n",
    "        'num_rings':rdMolDescriptors.CalcNumRings(m),\n",
    "        'tpsa':rdMolDescriptors.CalcTPSA(m),\n",
    "        'mollogp':Descriptors.MolLogP(m),\n",
    "        'molwt':Descriptors.MolWt(m)\n",
    "    }\n",
    "tmols = tmols.map(lambda x:dict(get_mol_res(x),**x))\n",
    "\n",
    "# write to avro files:\n",
    "schema = {'name':'chembl25_test','type':'record',\n",
    "          'fields':[{'name':'chembl_id','type':'string'},\n",
    "                   {'name':'sdf','type':'string'},\n",
    "                   {'name':'canonical_smiles','type':'string'},\n",
    "                   {'name':'inchi','type':'string'},\n",
    "                   {'name':'num_atoms','type':'int'},\n",
    "                           {'name':'num_heavy_atoms','type':'int'},\n",
    "                           {'name':'num_rotatable_bonds','type':'int'},\n",
    "                           {'name':'num_rings','type':'int'},\n",
    "                           {'name':'tpsa','type':'double'},\n",
    "                           {'name':'mollogp','type':'double'},\n",
    "                           {'name':'molwt','type':'double'}]}\n",
    "tmols.to_avro('chembl25_output.*.avro',schema)\n"
   ]
  },
  {
   "cell_type": "markdown",
   "metadata": {},
   "source": [
    "## chemical queries against avro"
   ]
  },
  {
   "cell_type": "code",
   "execution_count": 41,
   "metadata": {},
   "outputs": [
    {
     "name": "stdout",
     "output_type": "stream",
     "text": [
      " 104.47\n"
     ]
    }
   ],
   "source": [
    "nb = db.read_avro('./chembl25_output.*.avro')\n",
    "mols2 = nb.map(lambda x:mol_from_record(x['sdf'],sanitize=False,removeHs=False))\n",
    "\n",
    "q = Chem.MolFromSmarts('C(F)(F)F')\n",
    "t1=time.time();mols2.filter(lambda x: x is not None).filter(lambda x,q=q: x.HasSubstructMatch(q)).count().compute();t2=time.time()\n",
    "print(f\"{t2-t1 : .2f}\")"
   ]
  },
  {
   "cell_type": "markdown",
   "metadata": {},
   "source": [
    "It's faster to construct the molecules from the SMILES:"
   ]
  },
  {
   "cell_type": "code",
   "execution_count": 36,
   "metadata": {},
   "outputs": [
    {
     "name": "stdout",
     "output_type": "stream",
     "text": [
      " 40.52\n"
     ]
    }
   ],
   "source": [
    "nb = db.read_avro('./chembl25_output.*.avro')\n",
    "mols2 = nb.map(lambda x:Chem.MolFromSmiles(x['canonical_smiles'],sanitize=False))\n",
    "\n",
    "q = Chem.MolFromSmarts('C(F)(F)F')\n",
    "t1=time.time();mols2.filter(lambda x: x is not None).filter(lambda x,q=q: x.HasSubstructMatch(q)).count().compute();t2=time.time()\n",
    "print(f\"{t2-t1 : .2f}\")"
   ]
  },
  {
   "cell_type": "markdown",
   "metadata": {},
   "source": [
    "# Create a parquet file and try using dask.DataFrame"
   ]
  },
  {
   "cell_type": "code",
   "execution_count": 28,
   "metadata": {},
   "outputs": [],
   "source": [
    "nb = db.read_avro('./chembl25_output.*.avro')\n",
    "df = nb.to_dataframe()\n",
    "df.set_index('inchi')\n",
    "df.to_parquet('./chembl25_parquet')"
   ]
  },
  {
   "cell_type": "code",
   "execution_count": 7,
   "metadata": {},
   "outputs": [],
   "source": [
    "from dask import dataframe as dd"
   ]
  },
  {
   "cell_type": "code",
   "execution_count": 35,
   "metadata": {},
   "outputs": [
    {
     "name": "stdout",
     "output_type": "stream",
     "text": [
      " 37.12\n"
     ]
    }
   ],
   "source": [
    "df = dd.read_parquet('./chembl25_parquet')\n",
    "df['mol'] = df['canonical_smiles'].map(\n",
    "    lambda x:Chem.MolFromSmiles(x,sanitize=False),meta=('mol',object))\n",
    "q = Chem.MolFromSmarts('C(F)(F)F')\n",
    "t1=time.time();df[df['mol'] != None].count().compute();t2=time.time()\n",
    "print(f\"{t2-t1 : .2f}\")"
   ]
  },
  {
   "cell_type": "markdown",
   "metadata": {},
   "source": [
    "I haven't managed to get substructure queries to work correctly with `dask.DataFrame` yet. :-("
   ]
  },
  {
   "cell_type": "markdown",
   "metadata": {},
   "source": [
    "Try doing string queries:"
   ]
  },
  {
   "cell_type": "code",
   "execution_count": 30,
   "metadata": {},
   "outputs": [
    {
     "name": "stdout",
     "output_type": "stream",
     "text": [
      "7.27\n"
     ]
    }
   ],
   "source": [
    "sdf = dd.read_parquet('./chembl25_parquet')\n",
    "t1=time.time();len(sdf[sdf.inchi.map(lambda i:i.startswith('InChI=1S/C10H13N5S'))]);t2=time.time()\n",
    "print(f'{t2-t1:.2f}')"
   ]
  },
  {
   "cell_type": "code",
   "execution_count": 31,
   "metadata": {},
   "outputs": [
    {
     "name": "stdout",
     "output_type": "stream",
     "text": [
      "1.98\n"
     ]
    }
   ],
   "source": [
    "sdf = dd.read_parquet('./chembl25_parquet',columns=['chembl_id','inchi'])\n",
    "t1=time.time();len(sdf[sdf.inchi.map(lambda i:i.startswith('InChI=1S/C10H13N5S'))]);t2=time.time()\n",
    "print(f'{t2-t1:.2f}')"
   ]
  },
  {
   "cell_type": "code",
   "execution_count": 32,
   "metadata": {},
   "outputs": [
    {
     "name": "stdout",
     "output_type": "stream",
     "text": [
      "7.26\n"
     ]
    }
   ],
   "source": [
    "nb = db.read_avro('./chembl25_output.*.avro')\n",
    "t1=time.time();nb.filter(lambda x:x['inchi'].startswith('InChI=1S/C10H13N5S')).count().compute();t2=time.time()\n",
    "print(f'{t2-t1:.2f}')"
   ]
  },
  {
   "cell_type": "code",
   "execution_count": 33,
   "metadata": {},
   "outputs": [
    {
     "name": "stdout",
     "output_type": "stream",
     "text": [
      "1.28\n"
     ]
    }
   ],
   "source": [
    "sdf = dd.read_parquet('./chembl25_parquet')\n",
    "t1=time.time();len(sdf.inchi);t2=time.time()\n",
    "print(f'{t2-t1:.2f}')"
   ]
  },
  {
   "cell_type": "code",
   "execution_count": 34,
   "metadata": {},
   "outputs": [
    {
     "name": "stdout",
     "output_type": "stream",
     "text": [
      "6.85\n"
     ]
    }
   ],
   "source": [
    "nb = db.read_avro('./chembl25_output.*.avro')\n",
    "t1=time.time();nb.count().compute();t2=time.time()\n",
    "print(f'{t2-t1:.2f}')"
   ]
  },
  {
   "cell_type": "markdown",
   "metadata": {},
   "source": [
    "## Take a look at using pyarrow directly"
   ]
  },
  {
   "cell_type": "code",
   "execution_count": 19,
   "metadata": {},
   "outputs": [
    {
     "name": "stdout",
     "output_type": "stream",
     "text": [
      "1.86\n"
     ]
    }
   ],
   "source": [
    "import pyarrow as pa\n",
    "import pyarrow.parquet as pq\n",
    "dataset = pq.ParquetDataset('./chembl25_parquet/')\n",
    "t1=time.time();len([1 for x in dataset.read(columns=['inchi']).column('inchi') if x.as_py().startswith('InChI=1S/C10H13N5S')]);t2=time.time()\n",
    "print(f'{t2-t1:.2f}')"
   ]
  },
  {
   "cell_type": "markdown",
   "metadata": {},
   "source": [
    "A lot of the win here seems to be that we are only reading the columns we need from the parquet file"
   ]
  },
  {
   "cell_type": "code",
   "execution_count": 23,
   "metadata": {
    "scrolled": true
   },
   "outputs": [
    {
     "name": "stdout",
     "output_type": "stream",
     "text": [
      "6.38\n"
     ]
    }
   ],
   "source": [
    "dataset = pq.ParquetDataset('./chembl25_parquet/')\n",
    "t1=time.time();len([1 for x in dataset.read().column('inchi') if x.as_py().startswith('InChI=1S/C10H13N5S')]);t2=time.time()\n",
    "print(f'{t2-t1:.2f}')"
   ]
  }
 ],
 "metadata": {
  "kernelspec": {
   "display_name": "Python 3",
   "language": "python",
   "name": "python3"
  },
  "language_info": {
   "codemirror_mode": {
    "name": "ipython",
    "version": 3
   },
   "file_extension": ".py",
   "mimetype": "text/x-python",
   "name": "python",
   "nbconvert_exporter": "python",
   "pygments_lexer": "ipython3",
   "version": "3.7.5"
  }
 },
 "nbformat": 4,
 "nbformat_minor": 2
}
